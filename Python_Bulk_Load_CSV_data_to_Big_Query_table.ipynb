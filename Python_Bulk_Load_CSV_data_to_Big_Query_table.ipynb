{
  "nbformat": 4,
  "nbformat_minor": 0,
  "metadata": {
    "colab": {
      "provenance": []
    },
    "kernelspec": {
      "name": "python3",
      "display_name": "Python 3"
    },
    "language_info": {
      "name": "python"
    }
  },
  "cells": [
    {
      "cell_type": "markdown",
      "source": [
        "![Logo](data:image/png;base64,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)\n",
        "\n",
        "This notebook was creted to upload data from csv file, which was a resulting file from a previous ETL process to a Google Big Query data base table. After creating the table and passing the data to it, the program makes a SQL request to the recently created table and reads the data into a Pandas data frame.  The resulting table uploaded to Big Query will also later be connected to Looker Studio for the creation of different reports and dashboards\n",
        "\n"
      ],
      "metadata": {
        "id": "p3DJGG2OAKvM"
      }
    },
    {
      "cell_type": "code",
      "execution_count": 30,
      "metadata": {
        "id": "IHyE8hXV9N62"
      },
      "outputs": [],
      "source": [
        "#importing neccesary modules\n",
        "from pathlib import Path\n",
        "import time\n",
        "from google.cloud import bigquery\n",
        "from google.oauth2 import service_account\n",
        "import os\n"
      ]
    },
    {
      "cell_type": "code",
      "source": [
        "#Defining the function to uploaa data from a csv file to a Big Query data base table\n",
        "\n",
        "def upload_csv(client, table_ref,csv_file):\n",
        "    client.delete_table(table_ref, not_found_ok=True)\n",
        "    load_job_configuration=bigquery.LoadJobConfig()\n",
        "    load_job_configuration.schema=[\n",
        "        bigquery.SchemaField('destination_warehouse', 'STRING', mode='NULLABLE'),\n",
        "        bigquery.SchemaField('po_number', 'STRING', mode='NULLABLE'),\n",
        "        bigquery.SchemaField('expected_date', 'DATE', mode='NULLABLE'),\n",
        "        bigquery.SchemaField('received_at', 'DATE', mode='NULLABLE'),\n",
        "        bigquery.SchemaField('po_quantity', 'INTEGER', mode='NULLABLE'),\n",
        "        bigquery.SchemaField('sku', 'STRING', mode='NULLABLE'),\n",
        "        bigquery.SchemaField('supplier_name', 'STRING', mode='NULLABLE'),\n",
        "        bigquery.SchemaField('status', 'STRING', mode='NULLABLE'),\n",
        "        bigquery.SchemaField('CBM', 'NUMERIC', mode='NULLABLE'),\n",
        "        bigquery.SchemaField('completed_at', 'DATE', mode='NULLABLE'),\n",
        "        bigquery.SchemaField('total_cbm', 'NUMERIC', mode='NULLABLE'),\n",
        "        bigquery.SchemaField('reference_number', 'STRING', mode='NULLABLE'),\n",
        "\n",
        "\n",
        "]\n",
        "\n",
        "\n",
        "\n",
        "    load_job_configuration.source_format=bigquery.SourceFormat.CSV\n",
        "    load_job_configuration.skip_leading_rows=1\n",
        "    load_job_configuration.allow_quoted_newlines=True\n",
        "\n",
        "    with open(csv_file,\"rb\") as source_file:\n",
        "        upload_job=client.load_table_from_file(\n",
        "            source_file,\n",
        "            destination=table_ref,\n",
        "            location=\"US\",\n",
        "            job_config=load_job_configuration\n",
        "            )\n",
        "\n",
        "    while upload_job.state !='DONE':\n",
        "        time.sleep(20)\n",
        "        upload_job.reload()\n",
        "        print(upload_job.state)\n",
        "        print(upload_job.result( ))\n",
        "\n"
      ],
      "metadata": {
        "id": "_GU7tRrG9nON"
      },
      "execution_count": 31,
      "outputs": []
    },
    {
      "cell_type": "code",
      "source": [
        "#defining Big Query table reference\n",
        "def table_reference(project_id,dataset_id,table_id):\n",
        "    dataset_ref=bigquery.DatasetReference(project_id, dataset_id)\n",
        "    table_ref=bigquery.TableReference(dataset_ref,table_id)\n",
        "    return table_ref"
      ],
      "metadata": {
        "id": "JuPe41-mIu5t"
      },
      "execution_count": 32,
      "outputs": []
    },
    {
      "cell_type": "code",
      "source": [
        "#Connecting To Google Drive\n",
        "from google.colab import drive\n",
        "drive.mount('/content/drive')"
      ],
      "metadata": {
        "colab": {
          "base_uri": "https://localhost:8080/"
        },
        "id": "dpbMlWx5BPay",
        "outputId": "8ce96761-7627-4f8a-c538-744b3547d771"
      },
      "execution_count": 33,
      "outputs": [
        {
          "output_type": "stream",
          "name": "stdout",
          "text": [
            "Drive already mounted at /content/drive; to attempt to forcibly remount, call drive.mount(\"/content/drive\", force_remount=True).\n"
          ]
        }
      ]
    },
    {
      "cell_type": "code",
      "source": [
        "#Big Query Connection parameters\n",
        "%cd /content/drive/MyDrive/Big Query connection parameters\n",
        "with open('project_id_big_query.txt', 'r') as file:\n",
        "    project_id = file.read().strip()\n",
        "with open('data_set_id_big_query.txt', 'r') as file:\n",
        "    dataset_id = file.read().strip()\n",
        "table_name='completed_pos_cbm_total_by_po_sku_warehouse'\n"
      ],
      "metadata": {
        "colab": {
          "base_uri": "https://localhost:8080/"
        },
        "id": "3TQCf6jaCvOI",
        "outputId": "d99f8b53-c7a9-460c-eeec-75997cb8f337"
      },
      "execution_count": 34,
      "outputs": [
        {
          "output_type": "stream",
          "name": "stdout",
          "text": [
            "/content/drive/MyDrive/Big Query connection parameters\n"
          ]
        }
      ]
    },
    {
      "cell_type": "code",
      "source": [
        "#Define credentials reading from json service account file and connecting to Big Query Client\n",
        "credentials =service_account.Credentials.from_service_account_file(\n",
        "'vigilant-sunup-366016-e7742e2fb543.json')\n",
        "client = bigquery.Client(credentials=credentials)"
      ],
      "metadata": {
        "id": "2-h6vE9QGGOj"
      },
      "execution_count": 38,
      "outputs": []
    },
    {
      "cell_type": "code",
      "source": [
        "# read csv data that is going to be uploade to Big Query\n",
        "csv_file=(r'completed_pos_cbm_total_by_po_sku_warehouse.csv')"
      ],
      "metadata": {
        "id": "aBcxHSiMG16t"
      },
      "execution_count": 36,
      "outputs": []
    },
    {
      "cell_type": "code",
      "source": [
        "#define table and make final uplaoding of csv data to table in Big query---Done message shows if uploding finished correctly\n",
        "table_ref=table_reference(project_id,dataset_id,table_name)\n",
        "upload_csv(client,table_ref,csv_file)"
      ],
      "metadata": {
        "colab": {
          "base_uri": "https://localhost:8080/"
        },
        "id": "EdTYl1rQIijf",
        "outputId": "0c76912e-1d33-4f52-be47-2a581526da2a"
      },
      "execution_count": 39,
      "outputs": [
        {
          "output_type": "stream",
          "name": "stdout",
          "text": [
            "DONE\n",
            "LoadJob<project=vigilant-sunup-366016, location=US, id=3600ac3f-b258-43b3-87e3-94bcb709c0f7>\n"
          ]
        }
      ]
    },
    {
      "cell_type": "code",
      "source": [
        "#instal pandas google-cloud-bigquery module\n",
        "!pip install google-cloud-bigquery pandas"
      ],
      "metadata": {
        "colab": {
          "base_uri": "https://localhost:8080/"
        },
        "id": "8GxY9PpqLdyD",
        "outputId": "e70e3b4c-dbb9-420c-b3aa-41852b963057"
      },
      "execution_count": 40,
      "outputs": [
        {
          "output_type": "stream",
          "name": "stdout",
          "text": [
            "Requirement already satisfied: google-cloud-bigquery in /usr/local/lib/python3.10/dist-packages (3.25.0)\n",
            "Requirement already satisfied: pandas in /usr/local/lib/python3.10/dist-packages (2.0.3)\n",
            "Requirement already satisfied: google-api-core[grpc]!=2.0.*,!=2.1.*,!=2.10.*,!=2.2.*,!=2.3.*,!=2.4.*,!=2.5.*,!=2.6.*,!=2.7.*,!=2.8.*,!=2.9.*,<3.0.0dev,>=1.34.1 in /usr/local/lib/python3.10/dist-packages (from google-cloud-bigquery) (2.19.1)\n",
            "Requirement already satisfied: google-auth<3.0.0dev,>=2.14.1 in /usr/local/lib/python3.10/dist-packages (from google-cloud-bigquery) (2.27.0)\n",
            "Requirement already satisfied: google-cloud-core<3.0.0dev,>=1.6.0 in /usr/local/lib/python3.10/dist-packages (from google-cloud-bigquery) (2.4.1)\n",
            "Requirement already satisfied: google-resumable-media<3.0dev,>=0.6.0 in /usr/local/lib/python3.10/dist-packages (from google-cloud-bigquery) (2.7.1)\n",
            "Requirement already satisfied: packaging>=20.0.0 in /usr/local/lib/python3.10/dist-packages (from google-cloud-bigquery) (24.1)\n",
            "Requirement already satisfied: python-dateutil<3.0dev,>=2.7.2 in /usr/local/lib/python3.10/dist-packages (from google-cloud-bigquery) (2.8.2)\n",
            "Requirement already satisfied: requests<3.0.0dev,>=2.21.0 in /usr/local/lib/python3.10/dist-packages (from google-cloud-bigquery) (2.31.0)\n",
            "Requirement already satisfied: pytz>=2020.1 in /usr/local/lib/python3.10/dist-packages (from pandas) (2023.4)\n",
            "Requirement already satisfied: tzdata>=2022.1 in /usr/local/lib/python3.10/dist-packages (from pandas) (2024.1)\n",
            "Requirement already satisfied: numpy>=1.21.0 in /usr/local/lib/python3.10/dist-packages (from pandas) (1.25.2)\n",
            "Requirement already satisfied: googleapis-common-protos<2.0.dev0,>=1.56.2 in /usr/local/lib/python3.10/dist-packages (from google-api-core[grpc]!=2.0.*,!=2.1.*,!=2.10.*,!=2.2.*,!=2.3.*,!=2.4.*,!=2.5.*,!=2.6.*,!=2.7.*,!=2.8.*,!=2.9.*,<3.0.0dev,>=1.34.1->google-cloud-bigquery) (1.63.2)\n",
            "Requirement already satisfied: protobuf!=3.20.0,!=3.20.1,!=4.21.0,!=4.21.1,!=4.21.2,!=4.21.3,!=4.21.4,!=4.21.5,<6.0.0.dev0,>=3.19.5 in /usr/local/lib/python3.10/dist-packages (from google-api-core[grpc]!=2.0.*,!=2.1.*,!=2.10.*,!=2.2.*,!=2.3.*,!=2.4.*,!=2.5.*,!=2.6.*,!=2.7.*,!=2.8.*,!=2.9.*,<3.0.0dev,>=1.34.1->google-cloud-bigquery) (3.20.3)\n",
            "Requirement already satisfied: proto-plus<2.0.0dev,>=1.22.3 in /usr/local/lib/python3.10/dist-packages (from google-api-core[grpc]!=2.0.*,!=2.1.*,!=2.10.*,!=2.2.*,!=2.3.*,!=2.4.*,!=2.5.*,!=2.6.*,!=2.7.*,!=2.8.*,!=2.9.*,<3.0.0dev,>=1.34.1->google-cloud-bigquery) (1.24.0)\n",
            "Requirement already satisfied: grpcio<2.0dev,>=1.33.2 in /usr/local/lib/python3.10/dist-packages (from google-api-core[grpc]!=2.0.*,!=2.1.*,!=2.10.*,!=2.2.*,!=2.3.*,!=2.4.*,!=2.5.*,!=2.6.*,!=2.7.*,!=2.8.*,!=2.9.*,<3.0.0dev,>=1.34.1->google-cloud-bigquery) (1.64.1)\n",
            "Requirement already satisfied: grpcio-status<2.0.dev0,>=1.33.2 in /usr/local/lib/python3.10/dist-packages (from google-api-core[grpc]!=2.0.*,!=2.1.*,!=2.10.*,!=2.2.*,!=2.3.*,!=2.4.*,!=2.5.*,!=2.6.*,!=2.7.*,!=2.8.*,!=2.9.*,<3.0.0dev,>=1.34.1->google-cloud-bigquery) (1.48.2)\n",
            "Requirement already satisfied: cachetools<6.0,>=2.0.0 in /usr/local/lib/python3.10/dist-packages (from google-auth<3.0.0dev,>=2.14.1->google-cloud-bigquery) (5.4.0)\n",
            "Requirement already satisfied: pyasn1-modules>=0.2.1 in /usr/local/lib/python3.10/dist-packages (from google-auth<3.0.0dev,>=2.14.1->google-cloud-bigquery) (0.4.0)\n",
            "Requirement already satisfied: rsa<5,>=3.1.4 in /usr/local/lib/python3.10/dist-packages (from google-auth<3.0.0dev,>=2.14.1->google-cloud-bigquery) (4.9)\n",
            "Requirement already satisfied: google-crc32c<2.0dev,>=1.0 in /usr/local/lib/python3.10/dist-packages (from google-resumable-media<3.0dev,>=0.6.0->google-cloud-bigquery) (1.5.0)\n",
            "Requirement already satisfied: six>=1.5 in /usr/local/lib/python3.10/dist-packages (from python-dateutil<3.0dev,>=2.7.2->google-cloud-bigquery) (1.16.0)\n",
            "Requirement already satisfied: charset-normalizer<4,>=2 in /usr/local/lib/python3.10/dist-packages (from requests<3.0.0dev,>=2.21.0->google-cloud-bigquery) (3.3.2)\n",
            "Requirement already satisfied: idna<4,>=2.5 in /usr/local/lib/python3.10/dist-packages (from requests<3.0.0dev,>=2.21.0->google-cloud-bigquery) (3.7)\n",
            "Requirement already satisfied: urllib3<3,>=1.21.1 in /usr/local/lib/python3.10/dist-packages (from requests<3.0.0dev,>=2.21.0->google-cloud-bigquery) (2.0.7)\n",
            "Requirement already satisfied: certifi>=2017.4.17 in /usr/local/lib/python3.10/dist-packages (from requests<3.0.0dev,>=2.21.0->google-cloud-bigquery) (2024.7.4)\n",
            "Requirement already satisfied: pyasn1<0.7.0,>=0.4.6 in /usr/local/lib/python3.10/dist-packages (from pyasn1-modules>=0.2.1->google-auth<3.0.0dev,>=2.14.1->google-cloud-bigquery) (0.6.0)\n"
          ]
        }
      ]
    },
    {
      "cell_type": "code",
      "source": [
        "# defining the table, data set and project\n",
        "table_id = f\"{project_id}.{dataset_id}.{table_name}\""
      ],
      "metadata": {
        "id": "bETFA9hXNrXE"
      },
      "execution_count": 41,
      "outputs": []
    },
    {
      "cell_type": "code",
      "source": [
        "#reading data directly into a pandas DF\n",
        "df = client.query(f\"SELECT destination_warehouse, po_number, sku, status FROM `{table_id}`\").to_dataframe()"
      ],
      "metadata": {
        "id": "CW-Bbd85NvXn"
      },
      "execution_count": 44,
      "outputs": []
    },
    {
      "cell_type": "code",
      "source": [
        "print(df)"
      ],
      "metadata": {
        "colab": {
          "base_uri": "https://localhost:8080/"
        },
        "id": "Wok1ZG6NNx1y",
        "outputId": "7fe1c37d-bf06-40b3-8cd9-ed566f375103"
      },
      "execution_count": 45,
      "outputs": [
        {
          "output_type": "stream",
          "name": "stdout",
          "text": [
            "               destination_warehouse po_number    sku     status\n",
            "0                 Honolulu Warehouse   PO-1929   0514  completed\n",
            "1                 Eastvale Warehouse   PO-1753   0149  completed\n",
            "2                 Eastvale Warehouse   PO-1666   0075  completed\n",
            "3                 Eastvale Warehouse   PO-1666   0145  completed\n",
            "4                 Eastvale Warehouse   PO-1666  00109  completed\n",
            "...                              ...       ...    ...        ...\n",
            "14953  Eastvale CFP (Only CFP Parts)   PO-1757    F9B  completed\n",
            "14954  Eastvale CFP (Only CFP Parts)   PO-1757    F5B  completed\n",
            "14955  Eastvale CFP (Only CFP Parts)   PO-1757    F3B  completed\n",
            "14956  Eastvale CFP (Only CFP Parts)   PO-1757   F11B  completed\n",
            "14957  Eastvale CFP (Only CFP Parts)   PO-1757    F4B  completed\n",
            "\n",
            "[14958 rows x 4 columns]\n"
          ]
        }
      ]
    },
    {
      "cell_type": "code",
      "source": [],
      "metadata": {
        "id": "z7W5Nwa9N2no"
      },
      "execution_count": null,
      "outputs": []
    }
  ]
}